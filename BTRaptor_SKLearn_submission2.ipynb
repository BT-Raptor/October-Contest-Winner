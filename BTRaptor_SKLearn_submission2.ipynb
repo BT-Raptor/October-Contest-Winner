{
  "nbformat": 4,
  "nbformat_minor": 0,
  "metadata": {
    "colab": {
      "provenance": [],
      "collapsed_sections": []
    },
    "kernelspec": {
      "name": "python3",
      "display_name": "Python 3"
    },
    "language_info": {
      "name": "python"
    }
  },
  "cells": [
    {
      "cell_type": "markdown",
      "source": [
        "## Imports"
      ],
      "metadata": {
        "id": "MPIxCetmvCSb"
      }
    },
    {
      "cell_type": "code",
      "execution_count": 1,
      "metadata": {
        "colab": {
          "base_uri": "https://localhost:8080/"
        },
        "id": "rAbJ3LCwG9xd",
        "outputId": "929dd276-fe24-4755-88aa-18c1e0f1e78b"
      },
      "outputs": [
        {
          "output_type": "stream",
          "name": "stdout",
          "text": [
            "Mounted at /content/drive\n"
          ]
        }
      ],
      "source": [
        "import pandas as pd\n",
        "import numpy as np\n",
        "import pickle\n",
        "from glob import glob\n",
        "import json\n",
        "from scipy.sparse import hstack, csr_matrix\n",
        "from sklearn.preprocessing import OneHotEncoder\n",
        "from sklearn.ensemble import RandomForestRegressor\n",
        "\n",
        "from google.colab import drive\n",
        "drive.mount('/content/drive')"
      ]
    },
    {
      "cell_type": "markdown",
      "source": [
        "## Read data and format"
      ],
      "metadata": {
        "id": "ZMT89-rkvG7f"
      }
    },
    {
      "cell_type": "code",
      "source": [
        "df = pd.read_csv(\"drive/MyDrive/data/full_data_clean.csv\", low_memory=False, index_col=0)\n",
        "official_test_df = pd.read_csv(\"drive/MyDrive/data/test_processed.csv\", index_col=0)"
      ],
      "metadata": {
        "id": "MNJJ4vmxHCRL"
      },
      "execution_count": 2,
      "outputs": []
    },
    {
      "cell_type": "code",
      "source": [
        "df[\"Event Date\"] = pd.to_datetime(df[\"Event Date\"]).astype(int)\n",
        "official_test_df[\"Event Date\"] = pd.to_datetime(official_test_df[\"Event Date\"]).astype(int)\n",
        "region_test = official_test_df.pop(\"Region\")"
      ],
      "metadata": {
        "colab": {
          "base_uri": "https://localhost:8080/"
        },
        "id": "ifBhtbSOHJEl",
        "outputId": "def9bd51-2ec5-4722-8134-a0261a0b6546"
      },
      "execution_count": 3,
      "outputs": [
        {
          "output_type": "stream",
          "name": "stderr",
          "text": [
            "/usr/local/lib/python3.7/dist-packages/ipykernel_launcher.py:1: FutureWarning: casting datetime64[ns] values to int64 with .astype(...) is deprecated and will raise in a future version. Use .view(...) instead.\n",
            "  \"\"\"Entry point for launching an IPython kernel.\n",
            "/usr/local/lib/python3.7/dist-packages/ipykernel_launcher.py:2: FutureWarning: casting datetime64[ns] values to int64 with .astype(...) is deprecated and will raise in a future version. Use .view(...) instead.\n",
            "  \n"
          ]
        }
      ]
    },
    {
      "cell_type": "markdown",
      "source": [
        "**Recover missing coordinates**"
      ],
      "metadata": {
        "id": "RtYLP3P85lJA"
      }
    },
    {
      "cell_type": "code",
      "source": [
        "df[\"Latitude\"].isna().sum()"
      ],
      "metadata": {
        "colab": {
          "base_uri": "https://localhost:8080/"
        },
        "id": "Gwow8I323XaJ",
        "outputId": "62b830c3-6d3e-4b61-e628-9df403a371fe"
      },
      "execution_count": 4,
      "outputs": [
        {
          "output_type": "execute_result",
          "data": {
            "text/plain": [
              "138978"
            ]
          },
          "metadata": {},
          "execution_count": 4
        }
      ]
    },
    {
      "cell_type": "code",
      "source": [
        "coordinates = {}\n",
        "for mapping in glob(\"drive/MyDrive/data/full_data_location_maps/locations_batch_*.json\"):\n",
        "  with open(mapping, \"r\") as f:\n",
        "    batch = json.load(f)\n",
        "    coordinates.update(batch)\n"
      ],
      "metadata": {
        "id": "pgw-1HIqxmTE"
      },
      "execution_count": 5,
      "outputs": []
    },
    {
      "cell_type": "code",
      "source": [
        "df.loc[[int(x) for x in coordinates.keys()], [\"Latitude\", \"Longitude\"]] = [x[\"coordinates\"] for x in coordinates.values()]"
      ],
      "metadata": {
        "id": "mBpJD5hl2OeF"
      },
      "execution_count": 6,
      "outputs": []
    },
    {
      "cell_type": "code",
      "source": [
        "df[\"Latitude\"].isna().sum()"
      ],
      "metadata": {
        "colab": {
          "base_uri": "https://localhost:8080/"
        },
        "id": "C2YOgk-Y3J0K",
        "outputId": "b18d4db5-be71-4a74-8f87-074ae324efc4"
      },
      "execution_count": 7,
      "outputs": [
        {
          "output_type": "execute_result",
          "data": {
            "text/plain": [
              "129239"
            ]
          },
          "metadata": {},
          "execution_count": 7
        }
      ]
    },
    {
      "cell_type": "code",
      "source": [
        "df.dropna(subset=[\"Total Fatal Injuries\"], inplace=True)"
      ],
      "metadata": {
        "id": "FZfrB_q4Lvgt"
      },
      "execution_count": 8,
      "outputs": []
    },
    {
      "cell_type": "markdown",
      "source": [
        "## Check that train dataset and competition test df have the same categories"
      ],
      "metadata": {
        "id": "VFa-YCxM6N1T"
      }
    },
    {
      "cell_type": "code",
      "source": [
        "missing_values = {}\n",
        "for col in official_test_df.columns:\n",
        "  if col == \"Region\":\n",
        "    continue\n",
        "  values = official_test_df[col].unique()\n",
        "  new_values = [value for value in values if value not in df[col].values]\n",
        "  print(f\"For col {col} there are {len(new_values)} missing\")\n",
        "\n",
        "  missing_values[col] = new_values"
      ],
      "metadata": {
        "colab": {
          "base_uri": "https://localhost:8080/"
        },
        "id": "4F5fUnU3rA3o",
        "outputId": "dd0593e5-8f0e-4b30-facd-7f044117c359"
      },
      "execution_count": 9,
      "outputs": [
        {
          "output_type": "stream",
          "name": "stdout",
          "text": [
            "For col Event Date there are 0 missing\n",
            "For col Location there are 385 missing\n",
            "For col Country there are 1 missing\n",
            "For col Latitude there are 186 missing\n",
            "For col Longitude there are 186 missing\n",
            "For col Airport Code there are 5 missing\n",
            "For col Airport Name there are 2 missing\n",
            "For col Aircraft Damage there are 0 missing\n",
            "For col Aircraft Category there are 1 missing\n",
            "For col Make there are 19 missing\n",
            "For col Amateur Built there are 0 missing\n",
            "For col Number of Engines there are 0 missing\n",
            "For col Engine Type there are 0 missing\n",
            "For col Schedule there are 1 missing\n",
            "For col Purpose of Flight there are 1 missing\n",
            "For col Air Carrier there are 19 missing\n",
            "For col Total Serious Injuries there are 0 missing\n",
            "For col Total Minor Injuries there are 0 missing\n",
            "For col Total Uninjured there are 0 missing\n",
            "For col Weather Condition there are 3 missing\n",
            "For col Broad Phase of Flight there are 1 missing\n",
            "For col Avg_Make_Passenger_Capacity there are 0 missing\n"
          ]
        }
      ]
    },
    {
      "cell_type": "code",
      "source": [
        "missing_values[\"Location\"][:5]"
      ],
      "metadata": {
        "id": "z2WagCZsryCY",
        "colab": {
          "base_uri": "https://localhost:8080/"
        },
        "outputId": "7f3a1d31-9281-4ae4-9c23-2ab85a215a91"
      },
      "execution_count": 10,
      "outputs": [
        {
          "output_type": "execute_result",
          "data": {
            "text/plain": [
              "[' CEDAR RAPIDS, IA ',\n",
              " ' STIGLER, OK ',\n",
              " ' NEWPORT BEACH, CA ',\n",
              " ' SUNSET HILLS, MO ',\n",
              " ' COLDWATER, OH ']"
            ]
          },
          "metadata": {},
          "execution_count": 10
        }
      ]
    },
    {
      "cell_type": "code",
      "source": [
        "missing_values[\"Country\"]"
      ],
      "metadata": {
        "colab": {
          "base_uri": "https://localhost:8080/"
        },
        "id": "7YcSa8fLpk6i",
        "outputId": "92d9bc2f-ac70-45af-d749-557557c1fc45"
      },
      "execution_count": 11,
      "outputs": [
        {
          "output_type": "execute_result",
          "data": {
            "text/plain": [
              "[nan]"
            ]
          },
          "metadata": {},
          "execution_count": 11
        }
      ]
    },
    {
      "cell_type": "code",
      "source": [
        "missing_values[\"Airport Code\"]"
      ],
      "metadata": {
        "colab": {
          "base_uri": "https://localhost:8080/"
        },
        "id": "X4jhX2s2qXKk",
        "outputId": "fb6f70c0-da30-4f8e-bd5d-ed59d1618d14"
      },
      "execution_count": 12,
      "outputs": [
        {
          "output_type": "execute_result",
          "data": {
            "text/plain": [
              "[nan, '36', '85', '54', '63']"
            ]
          },
          "metadata": {},
          "execution_count": 12
        }
      ]
    },
    {
      "cell_type": "code",
      "source": [
        "missing_values[\"Airport Name\"]"
      ],
      "metadata": {
        "colab": {
          "base_uri": "https://localhost:8080/"
        },
        "id": "uAIqvdnFsXrZ",
        "outputId": "39bc6420-a1ab-457e-f2ad-c998919faa28"
      },
      "execution_count": 13,
      "outputs": [
        {
          "output_type": "execute_result",
          "data": {
            "text/plain": [
              "[nan, ' EGLIN, AFB ']"
            ]
          },
          "metadata": {},
          "execution_count": 13
        }
      ]
    },
    {
      "cell_type": "code",
      "source": [
        "missing_values[\"Aircraft Category\"]"
      ],
      "metadata": {
        "colab": {
          "base_uri": "https://localhost:8080/"
        },
        "id": "d__VsqbHqY-E",
        "outputId": "6c112bf0-5a57-4241-b475-e5a6065feccf"
      },
      "execution_count": 14,
      "outputs": [
        {
          "output_type": "execute_result",
          "data": {
            "text/plain": [
              "[nan]"
            ]
          },
          "metadata": {},
          "execution_count": 14
        }
      ]
    },
    {
      "cell_type": "code",
      "source": [
        "missing_values[\"Make\"]"
      ],
      "metadata": {
        "colab": {
          "base_uri": "https://localhost:8080/"
        },
        "id": "W6ddFxGStPlF",
        "outputId": "9020a862-be1a-4f68-89af-a17b4e919639"
      },
      "execution_count": 15,
      "outputs": [
        {
          "output_type": "execute_result",
          "data": {
            "text/plain": [
              "['PIPER',\n",
              " 'CESSNA',\n",
              " 'MOONEY',\n",
              " 'BEECH',\n",
              " 'LOCKHEED',\n",
              " 'BELL',\n",
              " 'BOEING',\n",
              " 'AERO COMMANDER',\n",
              " 'DOUGLAS',\n",
              " 'GRUMMAN',\n",
              " 'AEROSPATIALE',\n",
              " 'LEARJET',\n",
              " 'GRUMMAN AMERICAN',\n",
              " 'de Havilland',\n",
              " 'MITSUBISHI',\n",
              " 'BELLANCA',\n",
              " 'ROCKWELL',\n",
              " 'McDonnell Douglas',\n",
              " 'MBB']"
            ]
          },
          "metadata": {},
          "execution_count": 15
        }
      ]
    },
    {
      "cell_type": "code",
      "source": [
        "missing_values[\"Air Carrier\"]"
      ],
      "metadata": {
        "colab": {
          "base_uri": "https://localhost:8080/"
        },
        "id": "KUXCS6UwtuJI",
        "outputId": "9be13536-50f1-4bdd-eefd-0669a03a8c68"
      },
      "execution_count": 16,
      "outputs": [
        {
          "output_type": "execute_result",
          "data": {
            "text/plain": [
              "[nan,\n",
              " ' LADCO, INC. ',\n",
              " ' GALAXY AIRLINES, INC. ',\n",
              " ' SUSQUEHANNA AIRLINES, INC. ',\n",
              " ' WINGS WEST AIRLINES, INC. ',\n",
              " ' AVIATION ENTERPRISES,INC. ',\n",
              " ' ALASKA AIR SERVICE, INC. ',\n",
              " ' (DBA: RACO HELCIOPTERS, CORP) ',\n",
              " ' AIR CONTINENTAL, INC. ',\n",
              " ' WESTCON ASSOCIATES, INC. (DBA: GOLDEN EAGLE) ',\n",
              " ' CRAIG HUNTINGTON (DBA: HELICOPTER WEST, INC.[EMS]) ',\n",
              " ' WATERFRONT AIRWAYS,INC. ',\n",
              " ' TYEE AIRLINES, INC. ',\n",
              " ' BASCO FLYING SERVICE, INC. ',\n",
              " ' CARIB AIR SERVICE, INC. ',\n",
              " ' PETROLEUM HELICOPTERS, INC. ',\n",
              " ' BAKER AVIATION, INC. ',\n",
              " ' CONTINENTAL HELICOPTERS, INC. ',\n",
              " ' AIR FLORIDA, INC ']"
            ]
          },
          "metadata": {},
          "execution_count": 16
        }
      ]
    },
    {
      "cell_type": "code",
      "source": [
        "missing_values[\"Weather Condition\"]"
      ],
      "metadata": {
        "colab": {
          "base_uri": "https://localhost:8080/"
        },
        "id": "Fr1FuQJBtPs9",
        "outputId": "43e26a19-656e-4042-9654-2abcd49c15b2"
      },
      "execution_count": 17,
      "outputs": [
        {
          "output_type": "execute_result",
          "data": {
            "text/plain": [
              "['Clear Skies', 'Not Clear.  Use Instruments', 'Unknown']"
            ]
          },
          "metadata": {},
          "execution_count": 17
        }
      ]
    },
    {
      "cell_type": "code",
      "source": [
        "official_test_df[\"Weather Condition\"].unique()"
      ],
      "metadata": {
        "colab": {
          "base_uri": "https://localhost:8080/"
        },
        "id": "po5epsVHx2UL",
        "outputId": "036f5ef6-dee4-479d-a504-75961f490f54"
      },
      "execution_count": 18,
      "outputs": [
        {
          "output_type": "execute_result",
          "data": {
            "text/plain": [
              "array(['Clear Skies', 'Not Clear.  Use Instruments', 'Unknown'],\n",
              "      dtype=object)"
            ]
          },
          "metadata": {},
          "execution_count": 18
        }
      ]
    },
    {
      "cell_type": "code",
      "source": [
        "df[\"Weather Condition\"].unique()"
      ],
      "metadata": {
        "colab": {
          "base_uri": "https://localhost:8080/"
        },
        "id": "h01i3AsWx64T",
        "outputId": "d5eb8d45-1cc5-49d9-a04f-d450603fb0f9"
      },
      "execution_count": 19,
      "outputs": [
        {
          "output_type": "execute_result",
          "data": {
            "text/plain": [
              "array(['VMC', 'IMC', nan, 'UNK'], dtype=object)"
            ]
          },
          "metadata": {},
          "execution_count": 19
        }
      ]
    },
    {
      "cell_type": "code",
      "source": [
        "# Change 1:\n",
        "official_test_df[\"Location\"] = official_test_df[\"Location\"].str.strip()\n",
        "# Change 2:\n",
        "df.loc[df[\"Airport Code\"] == '036', \"Airport Code\"] = \"36\"\n",
        "df.loc[df[\"Airport Code\"] == '085', \"Airport Code\"] = \"85\"\n",
        "df.loc[df[\"Airport Code\"] == '054', \"Airport Code\"] = \"54\"\n",
        "df.loc[df[\"Airport Code\"] == '063', \"Airport Code\"] = \"63\"\n",
        "# Change 3:\n",
        "official_test_df.loc[official_test_df[\"Airport Name\"] == \" EGLIN, AFB \", \"Airport Name\"] = \"EGLIN, AFB\"\n",
        "# Change 4:\n",
        "for val in missing_values[\"Make\"]:\n",
        "  official_test_df.loc[official_test_df[\"Make\"] == val, \"Make\"] = val.capitalize()\n",
        "# Change 5:\n",
        "for val in missing_values[\"Air Carrier\"]:\n",
        "  if not isinstance(val, str):\n",
        "    continue\n",
        "  official_test_df.loc[official_test_df[\"Air Carrier\"] == val, \"Air Carrier\"] = val.strip()\n",
        "# Change 6:\n",
        "weather_condition_map = {'Clear Skies': \"VMC\", 'Not Clear.  Use Instruments': \"IMC\", 'Unknown': \"UNK\"}\n",
        "official_test_df[\"Weather Condition\"] = official_test_df[\"Weather Condition\"].apply(lambda x: weather_condition_map[x])\n",
        "df[\"Weather Condition\"].fillna(\"UNK\", inplace=True)"
      ],
      "metadata": {
        "id": "4khzIVLzoX_s"
      },
      "execution_count": 20,
      "outputs": []
    },
    {
      "cell_type": "code",
      "source": [
        "missing_values = {}\n",
        "for col in official_test_df.columns:\n",
        "  if col == \"Region\":\n",
        "    continue\n",
        "  values = official_test_df[col].unique()\n",
        "  new_values = [value for value in values if value not in df[col].values]\n",
        "  print(f\"For col {col} there are {len(new_values)} missing\")\n",
        "\n",
        "  missing_values[col] = new_values"
      ],
      "metadata": {
        "colab": {
          "base_uri": "https://localhost:8080/"
        },
        "id": "lrQzRXZqtKEP",
        "outputId": "5dab4ac3-a642-46f8-c6ee-d78f6227fe9d"
      },
      "execution_count": 21,
      "outputs": [
        {
          "output_type": "stream",
          "name": "stdout",
          "text": [
            "For col Event Date there are 0 missing\n",
            "For col Location there are 0 missing\n",
            "For col Country there are 1 missing\n",
            "For col Latitude there are 186 missing\n",
            "For col Longitude there are 186 missing\n",
            "For col Airport Code there are 1 missing\n",
            "For col Airport Name there are 1 missing\n",
            "For col Aircraft Damage there are 0 missing\n",
            "For col Aircraft Category there are 1 missing\n",
            "For col Make there are 0 missing\n",
            "For col Amateur Built there are 0 missing\n",
            "For col Number of Engines there are 0 missing\n",
            "For col Engine Type there are 0 missing\n",
            "For col Schedule there are 1 missing\n",
            "For col Purpose of Flight there are 1 missing\n",
            "For col Air Carrier there are 1 missing\n",
            "For col Total Serious Injuries there are 0 missing\n",
            "For col Total Minor Injuries there are 0 missing\n",
            "For col Total Uninjured there are 0 missing\n",
            "For col Weather Condition there are 0 missing\n",
            "For col Broad Phase of Flight there are 1 missing\n",
            "For col Avg_Make_Passenger_Capacity there are 0 missing\n"
          ]
        }
      ]
    },
    {
      "cell_type": "markdown",
      "source": [
        "## Encode categorical variables and turn data into sparse matrix for SKLearn model"
      ],
      "metadata": {
        "id": "m1ZWb2UK2rQv"
      }
    },
    {
      "cell_type": "code",
      "source": [
        "categorical_columns = df.describe(include=\"O\").columns\n",
        "encoder = OneHotEncoder()\n",
        "\n",
        "encoder.fit(df[categorical_columns])#.reshape(-1, 1))"
      ],
      "metadata": {
        "colab": {
          "base_uri": "https://localhost:8080/"
        },
        "id": "Mbqm2sEULVXX",
        "outputId": "19db2df3-d99f-43d4-bb2b-633bb4551e9e"
      },
      "execution_count": 22,
      "outputs": [
        {
          "output_type": "execute_result",
          "data": {
            "text/plain": [
              "OneHotEncoder()"
            ]
          },
          "metadata": {},
          "execution_count": 22
        }
      ]
    },
    {
      "cell_type": "code",
      "source": [
        "random_generator = np.random.default_rng(seed=1)\n",
        "train_idx = random_generator.choice(df.index, size=int(df.shape[0]*0.875), replace=False, shuffle=False)"
      ],
      "metadata": {
        "id": "viaY_PFvHXG9"
      },
      "execution_count": 23,
      "outputs": []
    },
    {
      "cell_type": "code",
      "source": [
        "train = df.loc[train_idx, :]\n",
        "test = df.loc[df.index.difference(train_idx), :]"
      ],
      "metadata": {
        "id": "z3WALwM9HYso"
      },
      "execution_count": 24,
      "outputs": []
    },
    {
      "cell_type": "code",
      "source": [
        "y_train = train.pop(\"Total Fatal Injuries\")\n",
        "y_test = test.pop(\"Total Fatal Injuries\")"
      ],
      "metadata": {
        "id": "hv1wpCSaHSUG"
      },
      "execution_count": 25,
      "outputs": []
    },
    {
      "cell_type": "code",
      "source": [
        "train_features = csr_matrix(train[train.describe(exclude=\"O\").columns].fillna(0))\n",
        "train_encodings = encoder.transform(train[categorical_columns])\n",
        "\n",
        "train_features = hstack((train_features, train_encodings))"
      ],
      "metadata": {
        "id": "52AFM2LuMpHP"
      },
      "execution_count": 26,
      "outputs": []
    },
    {
      "cell_type": "code",
      "source": [
        "test_features = csr_matrix(test[test.describe(exclude=\"O\").columns].fillna(0))\n",
        "test_encodings = encoder.transform(test[categorical_columns])\n",
        "\n",
        "test_features = hstack((test_features, test_encodings))"
      ],
      "metadata": {
        "id": "QrS5fshUcb3H"
      },
      "execution_count": 27,
      "outputs": []
    },
    {
      "cell_type": "markdown",
      "source": [
        "## Train and test model"
      ],
      "metadata": {
        "id": "csAtNUP4vzFj"
      }
    },
    {
      "cell_type": "code",
      "source": [
        "rforest = RandomForestRegressor()"
      ],
      "metadata": {
        "id": "mTF-UevjL53f"
      },
      "execution_count": null,
      "outputs": []
    },
    {
      "cell_type": "code",
      "source": [
        "rforest.fit(train_features, y_train)"
      ],
      "metadata": {
        "colab": {
          "base_uri": "https://localhost:8080/"
        },
        "id": "zddtMw8vL5xc",
        "outputId": "8bf6497c-5a77-4517-c095-e73a06b4d5dc"
      },
      "execution_count": null,
      "outputs": [
        {
          "output_type": "execute_result",
          "data": {
            "text/plain": [
              "RandomForestRegressor()"
            ]
          },
          "metadata": {},
          "execution_count": 180
        }
      ]
    },
    {
      "cell_type": "code",
      "source": [
        "filename = 'drive/MyDrive/october-contest/sklearn_rforest.sav'\n",
        "pickle.dump(rforest, open(filename, 'wb'))"
      ],
      "metadata": {
        "id": "Zmre_czLMfqd"
      },
      "execution_count": null,
      "outputs": []
    },
    {
      "cell_type": "code",
      "source": [
        "print(f\"RMSE on Test set is: {(sum((rforest.predict(test_features) - y_test)**2) / len(y_test))**0.5}\")"
      ],
      "metadata": {
        "colab": {
          "base_uri": "https://localhost:8080/"
        },
        "id": "ycNZWRbUKS9B",
        "outputId": "8bd71b31-ac87-4beb-a16f-eaf43dc1c98f"
      },
      "execution_count": null,
      "outputs": [
        {
          "output_type": "stream",
          "name": "stdout",
          "text": [
            "RMSE on Test set is: 3.1324016779025396\n"
          ]
        }
      ]
    },
    {
      "cell_type": "markdown",
      "source": [
        "## Test on official test split"
      ],
      "metadata": {
        "id": "06yHk6rYv2rt"
      }
    },
    {
      "cell_type": "code",
      "source": [
        "features_test_official = csr_matrix(official_test_df[official_test_df.describe(exclude=\"O\").columns].fillna(0))\n",
        "encodings_test_official = encoder.transform(official_test_df[categorical_columns])\n",
        "\n",
        "features_test_official = hstack((features_test_official, encodings_test_official))"
      ],
      "metadata": {
        "id": "FrRaRjmmfuNx"
      },
      "execution_count": 30,
      "outputs": []
    },
    {
      "cell_type": "code",
      "source": [
        "predictions = rforest.predict(features_test_official)"
      ],
      "metadata": {
        "id": "xKO_5nPf3-n9"
      },
      "execution_count": null,
      "outputs": []
    },
    {
      "cell_type": "code",
      "source": [
        "test_predictions = pd.DataFrame({\"Total Fatal Injuries\": predictions})"
      ],
      "metadata": {
        "id": "DuvZmIjB5hOn"
      },
      "execution_count": null,
      "outputs": []
    },
    {
      "cell_type": "code",
      "source": [
        "test_predictions[\"ID\"] =  test_predictions.index + 1\n",
        "test_predictions.set_index(\"ID\", inplace=True)"
      ],
      "metadata": {
        "id": "KSDBgzIg5i93"
      },
      "execution_count": null,
      "outputs": []
    },
    {
      "cell_type": "markdown",
      "source": [
        "## Send to Kaggle"
      ],
      "metadata": {
        "id": "vkOjejwG5u1l"
      }
    },
    {
      "cell_type": "code",
      "source": [
        "!pip install --upgrade --force-reinstall --no-deps kaggle -q"
      ],
      "metadata": {
        "colab": {
          "base_uri": "https://localhost:8080/"
        },
        "id": "EUCtzXPC57iH",
        "outputId": "49bd5577-40b9-4a46-91cd-061a55de89e6"
      },
      "execution_count": null,
      "outputs": [
        {
          "output_type": "stream",
          "name": "stdout",
          "text": [
            "\u001b[?25l\r\u001b[K     |█████▋                          | 10 kB 29.8 MB/s eta 0:00:01\r\u001b[K     |███████████▏                    | 20 kB 35.4 MB/s eta 0:00:01\r\u001b[K     |████████████████▊               | 30 kB 27.3 MB/s eta 0:00:01\r\u001b[K     |██████████████████████▎         | 40 kB 16.6 MB/s eta 0:00:01\r\u001b[K     |███████████████████████████▉    | 51 kB 19.1 MB/s eta 0:00:01\r\u001b[K     |████████████████████████████████| 58 kB 5.6 MB/s \n",
            "\u001b[?25h  Building wheel for kaggle (setup.py) ... \u001b[?25l\u001b[?25hdone\n"
          ]
        }
      ]
    },
    {
      "cell_type": "code",
      "source": [
        "!mkdir ~/.kaggle\n",
        "!cp /content/drive/MyDrive/kaggle/kaggle.json ~/.kaggle/"
      ],
      "metadata": {
        "id": "bkwDqQQM5uul"
      },
      "execution_count": null,
      "outputs": []
    },
    {
      "cell_type": "code",
      "source": [
        "test_predictions.to_csv(\"submission2.csv\")\n",
        "test_predictions.to_csv(\"drive/MyDrive/october-contest/submission2.csv\")"
      ],
      "metadata": {
        "id": "ZD3hLShl50OQ"
      },
      "execution_count": null,
      "outputs": []
    },
    {
      "cell_type": "code",
      "source": [
        "!kaggle competitions submit -c october-contest -f submission2.csv -m \"submission2\""
      ],
      "metadata": {
        "colab": {
          "base_uri": "https://localhost:8080/"
        },
        "id": "Y46_-O-b5unl",
        "outputId": "2c428aa4-bc1a-4f16-c204-e8544cd644f4"
      },
      "execution_count": null,
      "outputs": [
        {
          "output_type": "stream",
          "name": "stdout",
          "text": [
            "100% 3.60k/3.60k [00:00<00:00, 7.90kB/s]\n",
            "Successfully submitted to BT Raptor: October Contest"
          ]
        }
      ]
    },
    {
      "cell_type": "markdown",
      "source": [
        "## Reload model for future use"
      ],
      "metadata": {
        "id": "pDuhJdyUv_14"
      }
    },
    {
      "cell_type": "code",
      "source": [
        "filename = 'drive/MyDrive/october-contest/sklearn_rforest.sav'\n",
        "saved_forest = pickle.load(open(filename, 'rb'))"
      ],
      "metadata": {
        "id": "NakomyarMflG"
      },
      "execution_count": 28,
      "outputs": []
    },
    {
      "cell_type": "code",
      "source": [
        "print(f\"RMSE on Test set is: {(sum((saved_forest.predict(test_features) - y_test)**2) / len(y_test))**0.5}\")"
      ],
      "metadata": {
        "id": "1G76Ef1QMffv",
        "colab": {
          "base_uri": "https://localhost:8080/"
        },
        "outputId": "f608e296-67d2-46c7-b911-7d2a03a2878f"
      },
      "execution_count": 29,
      "outputs": [
        {
          "output_type": "stream",
          "name": "stdout",
          "text": [
            "RMSE on Test set is: 3.1219979545043497\n"
          ]
        }
      ]
    },
    {
      "cell_type": "code",
      "source": [
        "predictions2 = saved_forest.predict(features_test_official)"
      ],
      "metadata": {
        "id": "oQylKPxuf8Tw"
      },
      "execution_count": 32,
      "outputs": []
    },
    {
      "cell_type": "code",
      "source": [
        "test_predictions2 = pd.DataFrame({\"Total Fatal Injuries\": predictions2})"
      ],
      "metadata": {
        "id": "y485E31Rhmgy"
      },
      "execution_count": 33,
      "outputs": []
    },
    {
      "cell_type": "code",
      "source": [
        "test_predictions2[\"ID\"] =  test_predictions2.index + 1\n",
        "test_predictions2.set_index(\"ID\", inplace=True)"
      ],
      "metadata": {
        "id": "xRd6G0aDhqis"
      },
      "execution_count": 34,
      "outputs": []
    },
    {
      "cell_type": "code",
      "source": [
        "test_predictions2.to_csv(\"submission2.csv\")\n",
        "test_predictions2.to_csv(\"drive/MyDrive/october-contest/submission2.csv\")"
      ],
      "metadata": {
        "id": "lHHlmDUYhvKx"
      },
      "execution_count": 35,
      "outputs": []
    }
  ]
}